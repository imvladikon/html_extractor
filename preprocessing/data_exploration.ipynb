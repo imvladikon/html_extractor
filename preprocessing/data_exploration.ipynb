{
 "cells": [
  {
   "cell_type": "code",
   "execution_count": 1,
   "id": "initial_id",
   "metadata": {},
   "outputs": [],
   "source": [
    "import pandas as pd"
   ]
  },
  {
   "cell_type": "code",
   "execution_count": 3,
   "id": "139313f7-a37d-422c-9823-dc78c30c9a7a",
   "metadata": {},
   "outputs": [],
   "source": [
    "import sys\n",
    "sys.path.append(\"../\") # add project dir in order to import project modules"
   ]
  },
  {
   "cell_type": "code",
   "execution_count": 4,
   "id": "7b5c38cd-b875-486c-8b35-c8c7ff2b7e80",
   "metadata": {},
   "outputs": [],
   "source": [
    "from data_checkings import *"
   ]
  },
  {
   "cell_type": "code",
   "execution_count": 15,
   "id": "9e3da73a-d9e6-4730-9b90-01a05cb3b3c3",
   "metadata": {},
   "outputs": [],
   "source": [
    "metadata_folder = DATA_FOLDER / \"metadata\"\n",
    "folder = DATA_FOLDER / \"tables\""
   ]
  },
  {
   "cell_type": "markdown",
   "id": "598afebe-def5-4e4f-9d8a-3e4cf2f77da9",
   "metadata": {},
   "source": [
    "let's extract some information about tables and metadata"
   ]
  },
  {
   "cell_type": "code",
   "execution_count": 16,
   "id": "d87c600d-0cf3-46bb-b825-e1f28ccf3f6d",
   "metadata": {},
   "outputs": [
    {
     "name": "stderr",
     "output_type": "stream",
     "text": [
      "Extracting tables info: 100%|███████████████████████████████████████████████████████████████████████████████████████████████████████████████████████████████████████████████████████| 30000/30000 [03:01<00:00, 165.16it/s]\n"
     ]
    }
   ],
   "source": [
    "info_df = exract_tables_info_from(folder, metadata_folder)"
   ]
  },
  {
   "cell_type": "code",
   "execution_count": 17,
   "id": "1f76882d-f06a-4438-b97c-eb2005b15042",
   "metadata": {},
   "outputs": [
    {
     "data": {
      "text/html": [
       "<div>\n",
       "<style scoped>\n",
       "    .dataframe tbody tr th:only-of-type {\n",
       "        vertical-align: middle;\n",
       "    }\n",
       "\n",
       "    .dataframe tbody tr th {\n",
       "        vertical-align: top;\n",
       "    }\n",
       "\n",
       "    .dataframe thead th {\n",
       "        text-align: right;\n",
       "    }\n",
       "</style>\n",
       "<table border=\"1\" class=\"dataframe\">\n",
       "  <thead>\n",
       "    <tr style=\"text-align: right;\">\n",
       "      <th></th>\n",
       "      <th>n_rows</th>\n",
       "      <th>n_cols</th>\n",
       "      <th>n_header_cols</th>\n",
       "      <th>n_cells</th>\n",
       "      <th>table_id</th>\n",
       "      <th>has_caption</th>\n",
       "      <th>footer_text</th>\n",
       "      <th>n_tables</th>\n",
       "      <th>file_id</th>\n",
       "      <th>body.content</th>\n",
       "      <th>body.headers.col</th>\n",
       "      <th>body.headers.row</th>\n",
       "      <th>footer.table_creation_date:</th>\n",
       "      <th>footer.text</th>\n",
       "      <th>header.table_id</th>\n",
       "      <th>header.text</th>\n",
       "    </tr>\n",
       "  </thead>\n",
       "  <tbody>\n",
       "    <tr>\n",
       "      <th>0</th>\n",
       "      <td>1</td>\n",
       "      <td>5</td>\n",
       "      <td>4</td>\n",
       "      <td>5</td>\n",
       "      <td>Table5999962Lossadjusterchartered</td>\n",
       "      <td>1</td>\n",
       "      <td>Creation: 3Feb2013 Chad</td>\n",
       "      <td>1</td>\n",
       "      <td>0_table</td>\n",
       "      <td>[1060, 37, 1593, 1364]</td>\n",
       "      <td>[Roberts LLC]</td>\n",
       "      <td>[Daniel Brown, Shane Barnes DDS, Nicole Carpen...</td>\n",
       "      <td>[3Feb2013]</td>\n",
       "      <td>[Creation: 3Feb2013 Chad]</td>\n",
       "      <td>[59.99.9.62]</td>\n",
       "      <td>[Table 59.99.9.62 Loss adjuster, chartered]</td>\n",
       "    </tr>\n",
       "    <tr>\n",
       "      <th>1</th>\n",
       "      <td>4</td>\n",
       "      <td>4</td>\n",
       "      <td>3</td>\n",
       "      <td>16</td>\n",
       "      <td>Table6724Surveyorbuilding</td>\n",
       "      <td>1</td>\n",
       "      <td>Creation: 25Apr2014 Spain</td>\n",
       "      <td>1</td>\n",
       "      <td>10000_table</td>\n",
       "      <td>[745, 748, 998, 1089, 1008, 471%, 95, 1005%, 8...</td>\n",
       "      <td>[Morton-Stephens, Brown, Roberts and Bowen, Wi...</td>\n",
       "      <td>[Megan Harper, Jessica Reid, Rebecca Winters]</td>\n",
       "      <td>[25Apr2014]</td>\n",
       "      <td>[Creation: 25Apr2014 Spain]</td>\n",
       "      <td>[67.24]</td>\n",
       "      <td>[Table 67.24 Surveyor, building]</td>\n",
       "    </tr>\n",
       "    <tr>\n",
       "      <th>2</th>\n",
       "      <td>5</td>\n",
       "      <td>2</td>\n",
       "      <td>1</td>\n",
       "      <td>10</td>\n",
       "      <td>Table77267Healthvisitor</td>\n",
       "      <td>1</td>\n",
       "      <td>Creation: 24Aug2015 Bahrain</td>\n",
       "      <td>1</td>\n",
       "      <td>10001_table</td>\n",
       "      <td>[1312, 542%, 1399, 77, 1254]</td>\n",
       "      <td>[Hopkins, King and Mccoy, Norris and Sons, Per...</td>\n",
       "      <td>[Christina Gray]</td>\n",
       "      <td>[24Aug2015]</td>\n",
       "      <td>[Creation: 24Aug2015 Bahrain]</td>\n",
       "      <td>[77.26.7]</td>\n",
       "      <td>[Table 77.26.7 Health visitor]</td>\n",
       "    </tr>\n",
       "    <tr>\n",
       "      <th>3</th>\n",
       "      <td>9</td>\n",
       "      <td>5</td>\n",
       "      <td>4</td>\n",
       "      <td>45</td>\n",
       "      <td>Table327360371941Privatemusicteacher</td>\n",
       "      <td>1</td>\n",
       "      <td>Creation: 7Mar2017 Guinea</td>\n",
       "      <td>1</td>\n",
       "      <td>10002_table</td>\n",
       "      <td>[615, 634, 290, 409, 1391, 1143, 185%, 1261%, ...</td>\n",
       "      <td>[Myers PLC, Evans Group, Lindsey and Sons, Con...</td>\n",
       "      <td>[William Walker, Daniel Cox, Hunter Davis, Fra...</td>\n",
       "      <td>[7Mar2017]</td>\n",
       "      <td>[Creation: 7Mar2017 Guinea]</td>\n",
       "      <td>[32.73.60.37.19.41]</td>\n",
       "      <td>[Table 32.73.60.37.19.41 Private music teacher]</td>\n",
       "    </tr>\n",
       "    <tr>\n",
       "      <th>4</th>\n",
       "      <td>5</td>\n",
       "      <td>2</td>\n",
       "      <td>1</td>\n",
       "      <td>10</td>\n",
       "      <td>Table5Scientistforensic</td>\n",
       "      <td>1</td>\n",
       "      <td>Creation: 12May2007 Thailand</td>\n",
       "      <td>1</td>\n",
       "      <td>10003_table</td>\n",
       "      <td>[1534, 1588%, 992, 1047, 806]</td>\n",
       "      <td>[Barnes Group, Larson LLC, Garcia, Gonzalez an...</td>\n",
       "      <td>[Thomas Taylor]</td>\n",
       "      <td>[12May2007]</td>\n",
       "      <td>[Creation: 12May2007 Thailand]</td>\n",
       "      <td>[5]</td>\n",
       "      <td>[Table 5 Scientist, forensic]</td>\n",
       "    </tr>\n",
       "    <tr>\n",
       "      <th>...</th>\n",
       "      <td>...</td>\n",
       "      <td>...</td>\n",
       "      <td>...</td>\n",
       "      <td>...</td>\n",
       "      <td>...</td>\n",
       "      <td>...</td>\n",
       "      <td>...</td>\n",
       "      <td>...</td>\n",
       "      <td>...</td>\n",
       "      <td>...</td>\n",
       "      <td>...</td>\n",
       "      <td>...</td>\n",
       "      <td>...</td>\n",
       "      <td>...</td>\n",
       "      <td>...</td>\n",
       "      <td>...</td>\n",
       "    </tr>\n",
       "    <tr>\n",
       "      <th>29995</th>\n",
       "      <td>2</td>\n",
       "      <td>7</td>\n",
       "      <td>6</td>\n",
       "      <td>14</td>\n",
       "      <td>Table307521207Museumgallerycurator</td>\n",
       "      <td>1</td>\n",
       "      <td>Creation: 10Sep2007 Denmark</td>\n",
       "      <td>1</td>\n",
       "      <td>9998_table</td>\n",
       "      <td>[924, 1175, 1277, 259, 1541, 248, 211, 946%, 1...</td>\n",
       "      <td>[Chambers and Sons, Johnson-Elliott]</td>\n",
       "      <td>[Dalton Gibson, Cory Holt, Samuel Ayala, Marvi...</td>\n",
       "      <td>[10Sep2007]</td>\n",
       "      <td>[Creation: 10Sep2007 Denmark]</td>\n",
       "      <td>[30.75.21.20.7]</td>\n",
       "      <td>[Table 30.75.21.20.7 Museum/gallery curator]</td>\n",
       "    </tr>\n",
       "    <tr>\n",
       "      <th>29996</th>\n",
       "      <td>1</td>\n",
       "      <td>8</td>\n",
       "      <td>7</td>\n",
       "      <td>8</td>\n",
       "      <td>Table62Scientistresearchmedical</td>\n",
       "      <td>1</td>\n",
       "      <td>Creation: 27Dec2011 Niger</td>\n",
       "      <td>1</td>\n",
       "      <td>9999_table</td>\n",
       "      <td>[771, 1143, 780, 553, 887, 86, 864]</td>\n",
       "      <td>[Coleman and Sons]</td>\n",
       "      <td>[Kaylee Johnson, Lawrence Peters, Brianna Bent...</td>\n",
       "      <td>[27Dec2011]</td>\n",
       "      <td>[Creation: 27Dec2011 Niger]</td>\n",
       "      <td>[62]</td>\n",
       "      <td>[Table 62 Scientist, research (medical)]</td>\n",
       "    </tr>\n",
       "    <tr>\n",
       "      <th>29997</th>\n",
       "      <td>4</td>\n",
       "      <td>8</td>\n",
       "      <td>7</td>\n",
       "      <td>32</td>\n",
       "      <td>Table7794Acupuncturist</td>\n",
       "      <td>1</td>\n",
       "      <td>Creation: 6Oct2015 Lao People's Democratic Rep...</td>\n",
       "      <td>1</td>\n",
       "      <td>999_table</td>\n",
       "      <td>[1327, 1245, 1379, 1508, 175, 1303, 64, 257, 9...</td>\n",
       "      <td>[Griffin and Sons, Wilson, Thompson and Johnso...</td>\n",
       "      <td>[Brianna Lewis, David Kim, William Hancock, Ad...</td>\n",
       "      <td>[6Oct2015]</td>\n",
       "      <td>[Creation: 6Oct2015 Lao People's Democratic Re...</td>\n",
       "      <td>[77.94]</td>\n",
       "      <td>[Table 77.94 Acupuncturist]</td>\n",
       "    </tr>\n",
       "    <tr>\n",
       "      <th>29998</th>\n",
       "      <td>7</td>\n",
       "      <td>5</td>\n",
       "      <td>4</td>\n",
       "      <td>35</td>\n",
       "      <td>Table369050459697Riskanalyst</td>\n",
       "      <td>1</td>\n",
       "      <td>Creation: 7Feb2016 Mali</td>\n",
       "      <td>1</td>\n",
       "      <td>99_table</td>\n",
       "      <td>[118, 1556, 1380, 1097, 214, 1118, 1460%, 669,...</td>\n",
       "      <td>[Mcdonald, Copeland and Jimenez, Welch, Vazque...</td>\n",
       "      <td>[Jacob Watkins, Donald King, Gregory Ray, Morg...</td>\n",
       "      <td>[7Feb2016]</td>\n",
       "      <td>[Creation: 7Feb2016 Mali]</td>\n",
       "      <td>[36.90.50.45.96.97]</td>\n",
       "      <td>[Table 36.90.50.45.96.97 Risk analyst]</td>\n",
       "    </tr>\n",
       "    <tr>\n",
       "      <th>29999</th>\n",
       "      <td>9</td>\n",
       "      <td>9</td>\n",
       "      <td>8</td>\n",
       "      <td>81</td>\n",
       "      <td>Table558862Nursementalhealth</td>\n",
       "      <td>1</td>\n",
       "      <td>Creation: 15May2009 Finland</td>\n",
       "      <td>1</td>\n",
       "      <td>9_table</td>\n",
       "      <td>[1397, 1487, 1323, 1076, 259, 1495, 1510, 1142...</td>\n",
       "      <td>[Lewis-Wells, Green, Morales and Carter, Dixon...</td>\n",
       "      <td>[Jeffrey Smith, Timothy Edwards, Angelica Davi...</td>\n",
       "      <td>[15May2009]</td>\n",
       "      <td>[Creation: 15May2009 Finland]</td>\n",
       "      <td>[55.88.62]</td>\n",
       "      <td>[Table 55.88.62 Nurse, mental health]</td>\n",
       "    </tr>\n",
       "  </tbody>\n",
       "</table>\n",
       "<p>30000 rows × 16 columns</p>\n",
       "</div>"
      ],
      "text/plain": [
       "       n_rows  n_cols  n_header_cols  n_cells  \\\n",
       "0           1       5              4        5   \n",
       "1           4       4              3       16   \n",
       "2           5       2              1       10   \n",
       "3           9       5              4       45   \n",
       "4           5       2              1       10   \n",
       "...       ...     ...            ...      ...   \n",
       "29995       2       7              6       14   \n",
       "29996       1       8              7        8   \n",
       "29997       4       8              7       32   \n",
       "29998       7       5              4       35   \n",
       "29999       9       9              8       81   \n",
       "\n",
       "                                   table_id  has_caption  \\\n",
       "0         Table5999962Lossadjusterchartered            1   \n",
       "1                 Table6724Surveyorbuilding            1   \n",
       "2                   Table77267Healthvisitor            1   \n",
       "3      Table327360371941Privatemusicteacher            1   \n",
       "4                   Table5Scientistforensic            1   \n",
       "...                                     ...          ...   \n",
       "29995    Table307521207Museumgallerycurator            1   \n",
       "29996       Table62Scientistresearchmedical            1   \n",
       "29997                Table7794Acupuncturist            1   \n",
       "29998          Table369050459697Riskanalyst            1   \n",
       "29999          Table558862Nursementalhealth            1   \n",
       "\n",
       "                                             footer_text  n_tables  \\\n",
       "0                                Creation: 3Feb2013 Chad         1   \n",
       "1                              Creation: 25Apr2014 Spain         1   \n",
       "2                            Creation: 24Aug2015 Bahrain         1   \n",
       "3                              Creation: 7Mar2017 Guinea         1   \n",
       "4                           Creation: 12May2007 Thailand         1   \n",
       "...                                                  ...       ...   \n",
       "29995                        Creation: 10Sep2007 Denmark         1   \n",
       "29996                          Creation: 27Dec2011 Niger         1   \n",
       "29997  Creation: 6Oct2015 Lao People's Democratic Rep...         1   \n",
       "29998                            Creation: 7Feb2016 Mali         1   \n",
       "29999                        Creation: 15May2009 Finland         1   \n",
       "\n",
       "           file_id                                       body.content  \\\n",
       "0          0_table                             [1060, 37, 1593, 1364]   \n",
       "1      10000_table  [745, 748, 998, 1089, 1008, 471%, 95, 1005%, 8...   \n",
       "2      10001_table                       [1312, 542%, 1399, 77, 1254]   \n",
       "3      10002_table  [615, 634, 290, 409, 1391, 1143, 185%, 1261%, ...   \n",
       "4      10003_table                      [1534, 1588%, 992, 1047, 806]   \n",
       "...            ...                                                ...   \n",
       "29995   9998_table  [924, 1175, 1277, 259, 1541, 248, 211, 946%, 1...   \n",
       "29996   9999_table                [771, 1143, 780, 553, 887, 86, 864]   \n",
       "29997    999_table  [1327, 1245, 1379, 1508, 175, 1303, 64, 257, 9...   \n",
       "29998     99_table  [118, 1556, 1380, 1097, 214, 1118, 1460%, 669,...   \n",
       "29999      9_table  [1397, 1487, 1323, 1076, 259, 1495, 1510, 1142...   \n",
       "\n",
       "                                        body.headers.col  \\\n",
       "0                                          [Roberts LLC]   \n",
       "1      [Morton-Stephens, Brown, Roberts and Bowen, Wi...   \n",
       "2      [Hopkins, King and Mccoy, Norris and Sons, Per...   \n",
       "3      [Myers PLC, Evans Group, Lindsey and Sons, Con...   \n",
       "4      [Barnes Group, Larson LLC, Garcia, Gonzalez an...   \n",
       "...                                                  ...   \n",
       "29995               [Chambers and Sons, Johnson-Elliott]   \n",
       "29996                                 [Coleman and Sons]   \n",
       "29997  [Griffin and Sons, Wilson, Thompson and Johnso...   \n",
       "29998  [Mcdonald, Copeland and Jimenez, Welch, Vazque...   \n",
       "29999  [Lewis-Wells, Green, Morales and Carter, Dixon...   \n",
       "\n",
       "                                        body.headers.row  \\\n",
       "0      [Daniel Brown, Shane Barnes DDS, Nicole Carpen...   \n",
       "1          [Megan Harper, Jessica Reid, Rebecca Winters]   \n",
       "2                                       [Christina Gray]   \n",
       "3      [William Walker, Daniel Cox, Hunter Davis, Fra...   \n",
       "4                                        [Thomas Taylor]   \n",
       "...                                                  ...   \n",
       "29995  [Dalton Gibson, Cory Holt, Samuel Ayala, Marvi...   \n",
       "29996  [Kaylee Johnson, Lawrence Peters, Brianna Bent...   \n",
       "29997  [Brianna Lewis, David Kim, William Hancock, Ad...   \n",
       "29998  [Jacob Watkins, Donald King, Gregory Ray, Morg...   \n",
       "29999  [Jeffrey Smith, Timothy Edwards, Angelica Davi...   \n",
       "\n",
       "      footer.table_creation_date:  \\\n",
       "0                      [3Feb2013]   \n",
       "1                     [25Apr2014]   \n",
       "2                     [24Aug2015]   \n",
       "3                      [7Mar2017]   \n",
       "4                     [12May2007]   \n",
       "...                           ...   \n",
       "29995                 [10Sep2007]   \n",
       "29996                 [27Dec2011]   \n",
       "29997                  [6Oct2015]   \n",
       "29998                  [7Feb2016]   \n",
       "29999                 [15May2009]   \n",
       "\n",
       "                                             footer.text      header.table_id  \\\n",
       "0                              [Creation: 3Feb2013 Chad]         [59.99.9.62]   \n",
       "1                            [Creation: 25Apr2014 Spain]              [67.24]   \n",
       "2                          [Creation: 24Aug2015 Bahrain]            [77.26.7]   \n",
       "3                            [Creation: 7Mar2017 Guinea]  [32.73.60.37.19.41]   \n",
       "4                         [Creation: 12May2007 Thailand]                  [5]   \n",
       "...                                                  ...                  ...   \n",
       "29995                      [Creation: 10Sep2007 Denmark]      [30.75.21.20.7]   \n",
       "29996                        [Creation: 27Dec2011 Niger]                 [62]   \n",
       "29997  [Creation: 6Oct2015 Lao People's Democratic Re...              [77.94]   \n",
       "29998                          [Creation: 7Feb2016 Mali]  [36.90.50.45.96.97]   \n",
       "29999                      [Creation: 15May2009 Finland]           [55.88.62]   \n",
       "\n",
       "                                           header.text  \n",
       "0          [Table 59.99.9.62 Loss adjuster, chartered]  \n",
       "1                     [Table 67.24 Surveyor, building]  \n",
       "2                       [Table 77.26.7 Health visitor]  \n",
       "3      [Table 32.73.60.37.19.41 Private music teacher]  \n",
       "4                        [Table 5 Scientist, forensic]  \n",
       "...                                                ...  \n",
       "29995     [Table 30.75.21.20.7 Museum/gallery curator]  \n",
       "29996         [Table 62 Scientist, research (medical)]  \n",
       "29997                      [Table 77.94 Acupuncturist]  \n",
       "29998           [Table 36.90.50.45.96.97 Risk analyst]  \n",
       "29999            [Table 55.88.62 Nurse, mental health]  \n",
       "\n",
       "[30000 rows x 16 columns]"
      ]
     },
     "execution_count": 17,
     "metadata": {},
     "output_type": "execute_result"
    }
   ],
   "source": [
    "info_df"
   ]
  },
  {
   "cell_type": "markdown",
   "id": "d291189e-a2f6-48ca-9d4a-b8a03f748e80",
   "metadata": {},
   "source": [
    "Question: Can we extract always caption?"
   ]
  },
  {
   "cell_type": "code",
   "execution_count": 18,
   "id": "7772a47f-efc0-4da2-b8ba-584227dfed07",
   "metadata": {},
   "outputs": [
    {
     "data": {
      "text/plain": [
       "30000"
      ]
     },
     "execution_count": 18,
     "metadata": {},
     "output_type": "execute_result"
    }
   ],
   "source": [
    "info_df.has_caption.sum()"
   ]
  },
  {
   "cell_type": "markdown",
   "id": "e3ccbc14-e8f4-40af-af86-7fc009bb40a2",
   "metadata": {},
   "source": [
    "Answer: for our specific dataset, yes, we can"
   ]
  },
  {
   "cell_type": "markdown",
   "id": "541e7335-d7d8-412b-9657-bc4694145a42",
   "metadata": {},
   "source": [
    "Question: Is footer text (<tfoot>{text}</tfoot>) equals to header.text? "
   ]
  },
  {
   "cell_type": "code",
   "execution_count": 20,
   "id": "a4d07d1b-6cec-4ac2-b4e0-cc08b39fa5f7",
   "metadata": {},
   "outputs": [
    {
     "data": {
      "text/plain": [
       "30000"
      ]
     },
     "execution_count": 20,
     "metadata": {},
     "output_type": "execute_result"
    }
   ],
   "source": [
    "info_df[\"footer.text\"].str.len().sum()"
   ]
  },
  {
   "cell_type": "code",
   "execution_count": 22,
   "id": "8368240f-0535-4dbd-ae82-299090742b72",
   "metadata": {},
   "outputs": [],
   "source": [
    "info_df[\"footer.text\"] = info_df[\"footer.text\"].map(lambda v: v[0])"
   ]
  },
  {
   "cell_type": "code",
   "execution_count": 24,
   "id": "8f1e5af7-3c49-452a-a40d-1fdf02c3ef78",
   "metadata": {},
   "outputs": [
    {
     "data": {
      "text/plain": [
       "30000"
      ]
     },
     "execution_count": 24,
     "metadata": {},
     "output_type": "execute_result"
    }
   ],
   "source": [
    "(info_df[\"footer.text\"] == info_df[\"footer_text\"]).sum()"
   ]
  },
  {
   "cell_type": "markdown",
   "id": "a70904b1-402e-4eca-9173-5f0e4d6857ee",
   "metadata": {},
   "source": [
    "Answer: for our case, we can just extract `footer.text` from `tfoot` tag as is"
   ]
  },
  {
   "cell_type": "markdown",
   "id": "c0b8f625-5ced-4a72-9adc-22c5a35dbd30",
   "metadata": {},
   "source": [
    "Question: can we extract table_id from table.id(`<table id=\"\">`)? from which field we need to extract it?"
   ]
  },
  {
   "cell_type": "code",
   "execution_count": 25,
   "id": "95df4f04-1d9e-4bfd-a15c-58e895ba4955",
   "metadata": {},
   "outputs": [
    {
     "data": {
      "text/plain": [
       "0"
      ]
     },
     "execution_count": 25,
     "metadata": {},
     "output_type": "execute_result"
    }
   ],
   "source": [
    "(info_df[\"header.table_id\"] == info_df[\"table_id\"]).sum()"
   ]
  },
  {
   "cell_type": "markdown",
   "id": "a53c5cde-5f47-4ea4-b860-bf5843d19671",
   "metadata": {},
   "source": [
    "so, there is no matches, hence it's not the same    \n",
    "but as it's possible to see, header.table_id is part of header.text, so need to extract it from caption"
   ]
  },
  {
   "cell_type": "markdown",
   "id": "519e93c8-1241-4819-be39-29787bae194d",
   "metadata": {},
   "source": [
    "Question: from which field is possible to extract `footer.table_creation_date:`"
   ]
  },
  {
   "cell_type": "code",
   "execution_count": 28,
   "id": "7eb2a3c5-62c1-4e4b-8181-43c83e18ce87",
   "metadata": {},
   "outputs": [],
   "source": [
    "if info_df[\"footer.table_creation_date:\"].str.len().sum() == len(info_df):\n",
    "    info_df[\"footer.table_creation_date:\"] = info_df[\"footer.table_creation_date:\"].map(lambda v: v[0])"
   ]
  },
  {
   "cell_type": "code",
   "execution_count": 30,
   "id": "f1b21340-8483-4c5a-8e2a-9396bd738272",
   "metadata": {},
   "outputs": [
    {
     "data": {
      "text/plain": [
       "30000"
      ]
     },
     "execution_count": 30,
     "metadata": {},
     "output_type": "execute_result"
    }
   ],
   "source": [
    "sum(1 for foot_text, date_string in \n",
    " zip(info_df[\"footer_text\"].tolist(), info_df[\"footer.table_creation_date:\"].tolist()) \n",
    " if date_string in foot_text)"
   ]
  },
  {
   "cell_type": "markdown",
   "id": "6e4e155f-6ce9-4a27-bb91-ef684814a5ac",
   "metadata": {},
   "source": [
    "so, all the dates are in `footer_text`"
   ]
  },
  {
   "cell_type": "markdown",
   "id": "ca8c07cd-b291-4714-8bd7-a6fd7c7d2bd1",
   "metadata": {},
   "source": [
    "#### Summary:\n",
    "\n",
    "* we can extract `caption` (from the `<caption>` tag)\n",
    "* `footer.text` == footer text\n",
    "* creation dates need to extract from footer text\n",
    "* table_id is not equal to id of the html table, it's in the caption\n",
    "\n",
    "\n",
    "TODO: for future, is possible to automatate such `checkings`, or `mappings` (e.g. if we have schemas, we can apply schema matching algorithms, and it seems that `similarity flooding` is promising for this case: https://dbs.uni-leipzig.de/files/research/publications/2002-1/pdf/icde2002-sf.pdf)"
   ]
  }
 ],
 "metadata": {
  "kernelspec": {
   "display_name": "Python 3 (ipykernel)",
   "language": "python",
   "name": "python3"
  },
  "language_info": {
   "codemirror_mode": {
    "name": "ipython",
    "version": 3
   },
   "file_extension": ".py",
   "mimetype": "text/x-python",
   "name": "python",
   "nbconvert_exporter": "python",
   "pygments_lexer": "ipython3",
   "version": "3.8.8"
  }
 },
 "nbformat": 4,
 "nbformat_minor": 5
}
